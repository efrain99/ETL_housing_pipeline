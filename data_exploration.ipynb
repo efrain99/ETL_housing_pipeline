{
 "cells": [
  {
   "cell_type": "code",
   "execution_count": 1,
   "metadata": {},
   "outputs": [],
   "source": [
    "import pandas as pd\n",
    "import numpy as np"
   ]
  },
  {
   "cell_type": "markdown",
   "metadata": {},
   "source": [
    "# Housing Data Exploration"
   ]
  },
  {
   "cell_type": "markdown",
   "metadata": {},
   "source": [
    "## National housing data"
   ]
  },
  {
   "cell_type": "code",
   "execution_count": 2,
   "metadata": {},
   "outputs": [],
   "source": [
    "data_path = './raw/RDC_Inventory_Core_Metrics_'\n",
    "usa_data = pd.read_csv(data_path + 'Country_History.csv', index_col=0)"
   ]
  },
  {
   "cell_type": "code",
   "execution_count": 6,
   "metadata": {},
   "outputs": [
    {
     "name": "stdout",
     "output_type": "stream",
     "text": [
      "                         country  median_listing_price  \\\n",
      "month_date_yyyymm                                        \n",
      "202305             United States              441445.0   \n",
      "202304             United States              430000.0   \n",
      "202303             United States              423950.0   \n",
      "202302             United States              414014.0   \n",
      "202301             United States              403333.0   \n",
      "\n",
      "                   median_listing_price_mm  median_listing_price_yy  \\\n",
      "month_date_yyyymm                                                     \n",
      "202305                              0.0266                   0.0091   \n",
      "202304                              0.0143                   0.0250   \n",
      "202303                              0.0240                   0.0613   \n",
      "202302                              0.0265                   0.0768   \n",
      "202301                             -0.0041                   0.0904   \n",
      "\n",
      "                   active_listing_count  active_listing_count_mm  \\\n",
      "month_date_yyyymm                                                  \n",
      "202305                         582032.0                   0.0338   \n",
      "202304                         563025.0                   0.0018   \n",
      "202303                         562041.0                  -0.0287   \n",
      "202302                         578627.0                  -0.0612   \n",
      "202301                         616317.0                  -0.0942   \n",
      "\n",
      "                   active_listing_count_yy  median_days_on_market  \\\n",
      "month_date_yyyymm                                                   \n",
      "202305                              0.2149                   43.0   \n",
      "202304                              0.4832                   46.0   \n",
      "202303                              0.5893                   52.0   \n",
      "202302                              0.6716                   65.0   \n",
      "202301                              0.6366                   72.0   \n",
      "\n",
      "                   median_days_on_market_mm  median_days_on_market_yy  ...  \\\n",
      "month_date_yyyymm                                                      ...   \n",
      "202305                              -0.0652                    0.4576  ...   \n",
      "202304                              -0.1068                    0.5333  ...   \n",
      "202303                              -0.2016                    0.5373  ...   \n",
      "202302                              -0.1042                    0.5926  ...   \n",
      "202301                               0.1077                    0.2203  ...   \n",
      "\n",
      "                   average_listing_price  average_listing_price_mm  \\\n",
      "month_date_yyyymm                                                    \n",
      "202305                          791837.0                    0.0184   \n",
      "202304                          777513.0                    0.0223   \n",
      "202303                          760527.0                    0.0307   \n",
      "202302                          737897.0                    0.0407   \n",
      "202301                          709038.0                    0.0171   \n",
      "\n",
      "                   average_listing_price_yy  total_listing_count  \\\n",
      "month_date_yyyymm                                                  \n",
      "202305                               0.0318            1038168.0   \n",
      "202304                               0.0170             990597.0   \n",
      "202303                               0.0028             954559.0   \n",
      "202302                              -0.0060             944863.0   \n",
      "202301                               0.0092             914603.0   \n",
      "\n",
      "                   total_listing_count_mm  total_listing_count_yy  \\\n",
      "month_date_yyyymm                                                   \n",
      "202305                             0.0480                 -0.0023   \n",
      "202304                             0.0378                  0.0625   \n",
      "202303                             0.0103                  0.0933   \n",
      "202302                             0.0331                  0.1323   \n",
      "202301                            -0.0829                  0.1224   \n",
      "\n",
      "                   pending_ratio  pending_ratio_mm  pending_ratio_yy  \\\n",
      "month_date_yyyymm                                                      \n",
      "202305                    0.7908            0.0249           -0.3828   \n",
      "202304                    0.7659            0.0607           -0.7005   \n",
      "202303                    0.7052            0.0659           -0.7727   \n",
      "202302                    0.6393            0.1503           -0.7796   \n",
      "202301                    0.4891            0.0187           -0.6901   \n",
      "\n",
      "                   quality_flag  \n",
      "month_date_yyyymm                \n",
      "202305                      0.0  \n",
      "202304                      0.0  \n",
      "202303                      0.0  \n",
      "202302                      0.0  \n",
      "202301                      0.0  \n",
      "\n",
      "[5 rows x 38 columns]\n"
     ]
    }
   ],
   "source": [
    "print(usa_data.head())"
   ]
  },
  {
   "cell_type": "code",
   "execution_count": null,
   "metadata": {},
   "outputs": [],
   "source": [
    "# get rid of undeed columns\n",
    "# figure out what to do with rows that contain nans\n",
    "# get some statistics"
   ]
  }
 ],
 "metadata": {
  "kernelspec": {
   "display_name": "housing_pipeline",
   "language": "python",
   "name": "python3"
  },
  "language_info": {
   "codemirror_mode": {
    "name": "ipython",
    "version": 3
   },
   "file_extension": ".py",
   "mimetype": "text/x-python",
   "name": "python",
   "nbconvert_exporter": "python",
   "pygments_lexer": "ipython3",
   "version": "3.9.17"
  },
  "orig_nbformat": 4
 },
 "nbformat": 4,
 "nbformat_minor": 2
}
